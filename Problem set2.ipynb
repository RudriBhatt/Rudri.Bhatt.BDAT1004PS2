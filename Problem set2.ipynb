{
 "cells": [
  {
   "cell_type": "markdown",
   "id": "4c77fdcb",
   "metadata": {},
   "source": [
    "# Problem Set 2\n",
    "## Question 1\n",
    "#### Consider the following Python module:\n",
    "a = 0\n",
    "def b():\n",
    "global a\n",
    "a = c(a)\n",
    "def c(a):\n",
    "return a + 2\n",
    "After importing the module into the interpreter, you execute:\n",
    ">>> b()\n",
    ">>> b()\n",
    ">>> b()\n",
    ">>> a\n",
    "?\n",
    "\n",
    "What value is displayed when the last expression (a) is evaluated? Explain your answer by indicating what happens in every executed statement."
   ]
  },
  {
   "cell_type": "code",
   "execution_count": 4,
   "id": "55c040db",
   "metadata": {},
   "outputs": [
    {
     "name": "stdout",
     "output_type": "stream",
     "text": [
      "2\n",
      "4\n",
      "6\n"
     ]
    }
   ],
   "source": [
    "a = 0\n",
    "def b():\n",
    "    global a\n",
    "    a = c(a)\n",
    "\n",
    "def c(a):\n",
    "    return a + 2\n",
    "\n",
    "b()\n",
    "print(a)\n",
    "b()\n",
    "print(a)\n",
    "b()\n",
    "print(a)"
   ]
  },
  {
   "cell_type": "markdown",
   "id": "acafbf82",
   "metadata": {},
   "source": [
    "## Explaination \n",
    "Global keyword is used inside a function only when we want to change a variable a if global keyword is not there then the value of a will not change outside of the function.\n",
    "- 1st time when a=0 and b()  is called it calls c(a) which increments a into 2\n",
    "- 2nd time a=2 b() called where c(a) will return 4\n",
    "- 3rd time a=4, b() where c(a) will return 6\n"
   ]
  },
  {
   "cell_type": "markdown",
   "id": "fd77fcad",
   "metadata": {},
   "source": [
    "## Question 2 \n",
    "Function fileLength(), given to you, takes the name of a file as input and returns the length of the file: \n",
    ">>> fileLength('midterm.py') \n",
    "284 \n",
    ">>> fileLength('idterm.py') \n",
    "Traceback (most recent call last): \n",
    "File \"<pyshell#34>\", line 1, in <module> \n",
    "    fileLength('idterm.py') \n",
    "File \"/Users/me/midterm.py\", line 3, in fileLength \n",
    "    infile = open(filename) \n",
    "    FileNotFoundError: [Errno 2] No such file or directory: 'idterm.py'\n",
    "    \n",
    "As shown above, if the file cannot be found by the interpreter or if it cannot be read as a text file, an exception will be raised. Modify function fileLength() so that a friendly message is printed instead: \n",
    "    >>> fileLength('midterm.py') \n",
    "    358 \n",
    "    >>> fileLength('idterm.py') \n",
    "    File idterm.py not found."
   ]
  },
  {
   "cell_type": "code",
   "execution_count": 17,
   "id": "cb6b450b",
   "metadata": {},
   "outputs": [
    {
     "name": "stdout",
     "output_type": "stream",
     "text": [
      "Enter a file name: idterm.py\n",
      "The entered file name is :idterm.py\n",
      "File  idterm.py  is not found\n"
     ]
    }
   ],
   "source": [
    "import os\n",
    "def fileLength(FileName):\n",
    "    try:  \n",
    "        print(\"The entered file name is :\"+ FileName)\n",
    "        size = os.path.getsize(FileName) \n",
    "        print (size)\n",
    "    except FileNotFoundError:\n",
    "            print(\"File \",FileName,\" is not found\")  \n",
    "        \n",
    "        \n",
    "FileName=input(\"Enter a file name: \")\n",
    "fileLength(FileName)"
   ]
  },
  {
   "cell_type": "markdown",
   "id": "784ca0bf",
   "metadata": {},
   "source": [
    "## Question 3 \n",
    "Write a class named Marsupial that can be used as shown below:\n",
    ">>> m = Marsupial() \n",
    ">>> m.put_in_pouch('doll') \n",
    ">>> m.put_in_pouch('firetruck') \n",
    ">>> m.put_in_pouch('kitten') \n",
    ">>> m.pouch_contents() \n",
    "\n",
    "['doll', 'firetruck', 'kitten']\n",
    "\n",
    "\n"
   ]
  },
  {
   "cell_type": "code",
   "execution_count": 5,
   "id": "23bb5344",
   "metadata": {},
   "outputs": [
    {
     "data": {
      "text/plain": [
       "['doll', 'firetruck', 'kitten']"
      ]
     },
     "execution_count": 5,
     "metadata": {},
     "output_type": "execute_result"
    }
   ],
   "source": [
    "class Marsupial:\n",
    "    pList=[]\n",
    "    def put_in_pouch(self,name):\n",
    "        #print(name)\n",
    "        self.pList.append(name)\n",
    "    def pouch_contents(self):\n",
    "        return(self.pList)\n",
    "    \n",
    "\n",
    "m = Marsupial()\n",
    "#name=input(\"Enter any name: \")\n",
    "#m.put_in_pouch(name)\n",
    "m.put_in_pouch('doll')\n",
    "m.put_in_pouch('firetruck')\n",
    "m.put_in_pouch('kitten')\n",
    "m.pouch_contents()\n"
   ]
  },
  {
   "cell_type": "markdown",
   "id": "7cbc6779",
   "metadata": {},
   "source": [
    "Now write a class named Kangaroo as a subclass of Marsupial that inherits all the attributes of Marsupial and also:\n",
    "1. extends the Marsupial __init__ constructor to take, as input, the coordinates x and y of the Kangaroo object,\n",
    "2. supports method jump that takes number values dx and dy as input and moves the kangaroo by dx units along the x-axis and by dy units along the y-axis, and\n",
    "3. overloads the __str__ operator so it behaves as shown below.\n",
    ">>> k = Kangaroo(0,0) \n",
    ">>> print(k) \n",
    "I am a Kangaroo located at coordinates (0,0) \n",
    ">>> k.put_in_pouch('doll') \n",
    ">>> k.put_in_pouch('firetruck') \n",
    ">>> k.put_in_pouch('kitten') \n",
    ">>> k.pouch_contents() \n",
    "['doll', 'firetruck', 'kitten'] \n",
    ">>> k.jump(1,0) \n",
    ">>> k.jump(1,0) \n",
    ">>> k.jump(1,0) \n",
    ">>> print(k) \n",
    "I am a Kangaroo located at coordinates (3,0)"
   ]
  },
  {
   "cell_type": "code",
   "execution_count": 16,
   "id": "69da0385",
   "metadata": {},
   "outputs": [
    {
     "name": "stdout",
     "output_type": "stream",
     "text": [
      "I am a Kangaroo located at coordinates (0,0)\n",
      "I am a Kangaroo located at coordinates (1,0)\n",
      "I am a Kangaroo located at coordinates (3,0)\n"
     ]
    }
   ],
   "source": [
    "class Marsupial:\n",
    "    pList=[]\n",
    "    def __init__(self, x, y):\n",
    "        self.x = x\n",
    "        self.y = y\n",
    "        \n",
    "    def __repr__(self):\n",
    "        print('I am a Kangaroo located at coordinates ({}, {}).'.format(self.x, self.y))\n",
    "        \n",
    "    def __str__(self):\n",
    "         return f'I am a Kangaroo located at coordinates ({self.x},{self.y})'\n",
    "        #print('I am a Kangaroo located at coordinates ({}, {}).'.format(self.x, self.y))\n",
    "        \n",
    "    def put_in_pouch(self,name):\n",
    "        #print(name)\n",
    "        self.pList.append(name)\n",
    "        \n",
    "    def pouch_contents(self):\n",
    "        return(self.pList)\n",
    "    \n",
    "    def jump(self,x,y):\n",
    "        self.x+=x\n",
    "        self.y+=y\n",
    "        \n",
    "class Kangaroo(Marsupial):\n",
    "    pass\n",
    "\n",
    "k=Kangaroo(0,0)\n",
    "print(k)\n",
    "k.put_in_pouch('doll')\n",
    "k.put_in_pouch('firetruck') \n",
    "k.put_in_pouch('kitten') \n",
    "k.pouch_contents() \n",
    "k.jump(1,0)\n",
    "print(k)\n",
    "k.jump(1,0)\n",
    "k.jump(1,0) \n",
    "print(k) "
   ]
  },
  {
   "cell_type": "markdown",
   "id": "34875d36",
   "metadata": {},
   "source": [
    "## Question 4\n",
    "Write function collatz() that takes a positive integer x as input and prints the Collatz sequence starting at x. A Collatz sequence is obtained by repeatedly applying this rule to the previous number x in the sequence:\n",
    "                x = { 𝑥/2 𝑖𝑓 𝑥 𝑖𝑠 𝑒𝑣𝑒𝑛\n",
    "                      3𝑥+1 𝑖𝑓 𝑥 𝑖𝑠 𝑜𝑑𝑑\n",
    "Your function should stop when the sequence gets to number 1. Your implementation must be recursive, without any loops."
   ]
  },
  {
   "cell_type": "code",
   "execution_count": 16,
   "id": "73f85b9d",
   "metadata": {},
   "outputs": [
    {
     "data": {
      "text/plain": [
       "[10, 5, 16, 8, 4, 2, 1]"
      ]
     },
     "execution_count": 16,
     "metadata": {},
     "output_type": "execute_result"
    }
   ],
   "source": [
    "def collatz(n):\n",
    "    collatzlist = [n]\n",
    "    if n == 1 :\n",
    "        return [1]                 \n",
    "    elif n % 2 == 0 : \n",
    "        collatzlist.extend(collatz(n//2))     # n is even\n",
    "    else:\n",
    "        collatzlist.extend(collatz(n*3+1))    # n is odd\n",
    "    return collatzlist\n",
    " \n",
    "collatz(10)"
   ]
  },
  {
   "cell_type": "markdown",
   "id": "63717e19",
   "metadata": {},
   "source": [
    "## Question 5\n",
    "#### Write a recursive method binary() that takes a non-negative integer n and prints the binary representation of integer n. \n",
    ">>> binary(0) \n",
    "0 \n",
    ">>> binary(1) \n",
    "1 \n",
    ">>> binary(3) \n",
    "11 \n",
    ">>> binary(9) 1001"
   ]
  },
  {
   "cell_type": "code",
   "execution_count": 1,
   "id": "77024c34",
   "metadata": {},
   "outputs": [
    {
     "name": "stdout",
     "output_type": "stream",
     "text": [
      "Enter an integer:\n",
      "34\n",
      "100010"
     ]
    }
   ],
   "source": [
    "def binary(n):\n",
    "    if n > 1:\n",
    "        binary(n//2)\n",
    "    print(n % 2,end = '')\n",
    "        \n",
    "print(\"Enter an integer:\")\n",
    "n =int(input())\n",
    "binary(n)"
   ]
  },
  {
   "cell_type": "markdown",
   "id": "08788f5a",
   "metadata": {},
   "source": [
    "## Question 6\n",
    "Implement a class named HeadingParser that can be used to parse an HTML document, and retrieve and print all the headings in the document. You should implement your class as a subclass of HTMLParser, defined in Standard Library module html.parser. When fed a string containing HTML code, your class should print the headings, one per line and in the order in which they appear in the document. Each heading should be indented as follows: an h1 heading should have indentation 0, and h2 heading should have indentation 1, etc. Test your implementation using w3c.html.\n",
    ">>> infile = open('w3c.html')\n",
    ">>> content = infile.read()\n",
    ">>> infile.close()\n",
    ">>> hp = HeadingParser()\n",
    ">>> hp.feed(content)\n",
    "W3C Mission\n",
    "Principles\n"
   ]
  },
  {
   "cell_type": "code",
   "execution_count": 42,
   "id": "ae453dc9",
   "metadata": {},
   "outputs": [
    {
     "name": "stdout",
     "output_type": "stream",
     "text": [
      "W3C Mission\n",
      "\n",
      "\tPrinciples\n",
      "\t\n"
     ]
    }
   ],
   "source": [
    "from html.parser import HTMLParser\n",
    "class HeadingParser(HTMLParser):\n",
    "    def handle_starttag(self, tag, attrs):\n",
    "        self.heading = 0\n",
    "        self.indent=0\n",
    "        self.data = []\n",
    "        #print(tag)\n",
    "        if tag=='h1' or tag=='h2' or tag=='h3' or tag=='h4' or tag=='h5' or tag=='h6':\n",
    "             self.heading = 1\n",
    "        if tag=='h1':\n",
    "            self.indent=0\n",
    "        if tag=='h2':\n",
    "            self.indent=1\n",
    "        if tag=='h3':\n",
    "            self.indent=2\n",
    "        if tag=='h4':\n",
    "            self.indent=3\n",
    "        if tag=='h5':\n",
    "            self.indent=4\n",
    "        if tag=='h6':\n",
    "            self.indent=5\n",
    "\n",
    "    def handle_data(self, data):\n",
    "        if self.heading:\n",
    "            # strip() is used to remove extra spaces reference from book \n",
    "            print ('\\t' * self.indent + data.strip()) \n",
    "            # using strip() i am tryint to remove extra spaces which are removed but not able to remove lines \n",
    "            \n",
    "infile = open(\"W3c.html\")\n",
    "content = infile.read()\n",
    "infile.close()\n",
    "p = HeadingParser()\n",
    "p.feed(content)"
   ]
  },
  {
   "cell_type": "markdown",
   "id": "cb8c3240",
   "metadata": {},
   "source": [
    "## Question 7\n",
    "Implement recursive function webdir() that takes as input: a URL (as a string) and non-negative integers depth and indent. Your function should visit every web page reachable from the starting URL web page in depth clicks or less, and print each web page's URL. As shown below, indentation, specified by indent, should be used to indicate the depth of a URL. \n",
    ">>> webdir('http://reed.cs.depaul.edu/lperkovic/csc242/test1.html', 2, 0) \n",
    "http://reed.cs.depaul.edu/lperkovic/csc242/test1.html \n",
    "http://reed.cs.depaul.edu/lperkovic/csc242/test2.html \n",
    "http://reed.cs.depaul.edu/lperkovic/csc242/test4.html \n",
    "http://reed.cs.depaul.edu/lperkovic/csc242/test3.html \n",
    "http://reed.cs.depaul.edu/lperkovic/csc242/test4.html"
   ]
  },
  {
   "cell_type": "code",
   "execution_count": 5,
   "id": "53588756",
   "metadata": {},
   "outputs": [
    {
     "name": "stdout",
     "output_type": "stream",
     "text": [
      "\n",
      "\n",
      "Visiting http://reed.cs.depaul.edu/lperkovic/one.html\n",
      "\t\thttp://reed.cs.depaul.edu/lperkovic/two.html\n",
      "\t\thttp://reed.cs.depaul.edu/lperkovic/three.html\n"
     ]
    },
    {
     "ename": "AttributeError",
     "evalue": "'Collector' object has no attribute 'link'",
     "output_type": "error",
     "traceback": [
      "\u001b[1;31m---------------------------------------------------------------------------\u001b[0m",
      "\u001b[1;31mAttributeError\u001b[0m                            Traceback (most recent call last)",
      "\u001b[1;32m<ipython-input-5-ff404ac1b10f>\u001b[0m in \u001b[0;36m<module>\u001b[1;34m\u001b[0m\n\u001b[0;32m     82\u001b[0m     \u001b[1;32mreturn\u001b[0m \u001b[0murls\u001b[0m\u001b[1;33m\u001b[0m\u001b[1;33m\u001b[0m\u001b[0m\n\u001b[0;32m     83\u001b[0m \u001b[1;33m\u001b[0m\u001b[0m\n\u001b[1;32m---> 84\u001b[1;33m \u001b[0mcrawl2\u001b[0m\u001b[1;33m(\u001b[0m\u001b[1;34m'http://reed.cs.depaul.edu/lperkovic/one.html'\u001b[0m\u001b[1;33m,\u001b[0m\u001b[1;36m2\u001b[0m\u001b[1;33m,\u001b[0m\u001b[1;36m0\u001b[0m\u001b[1;33m)\u001b[0m\u001b[1;33m\u001b[0m\u001b[1;33m\u001b[0m\u001b[0m\n\u001b[0m",
      "\u001b[1;32m<ipython-input-5-ff404ac1b10f>\u001b[0m in \u001b[0;36mcrawl2\u001b[1;34m(url, indent, depth)\u001b[0m\n\u001b[0;32m     49\u001b[0m \u001b[1;33m\u001b[0m\u001b[0m\n\u001b[0;32m     50\u001b[0m     \u001b[1;31m# analyze() returns a list of hyperlink URLs in web page url\u001b[0m\u001b[1;33m\u001b[0m\u001b[1;33m\u001b[0m\u001b[1;33m\u001b[0m\u001b[0m\n\u001b[1;32m---> 51\u001b[1;33m     \u001b[0mlinks\u001b[0m \u001b[1;33m=\u001b[0m \u001b[0manalyze\u001b[0m\u001b[1;33m(\u001b[0m\u001b[0murl\u001b[0m\u001b[1;33m,\u001b[0m\u001b[0mindent\u001b[0m\u001b[1;33m)\u001b[0m\u001b[1;33m\u001b[0m\u001b[1;33m\u001b[0m\u001b[0m\n\u001b[0m\u001b[0;32m     52\u001b[0m \u001b[1;33m\u001b[0m\u001b[0m\n\u001b[0;32m     53\u001b[0m     \u001b[1;31m# recursively continue crawl from every link in links\u001b[0m\u001b[1;33m\u001b[0m\u001b[1;33m\u001b[0m\u001b[1;33m\u001b[0m\u001b[0m\n",
      "\u001b[1;32m<ipython-input-5-ff404ac1b10f>\u001b[0m in \u001b[0;36manalyze\u001b[1;34m(url, indent)\u001b[0m\n\u001b[0;32m     75\u001b[0m     \u001b[0mcollector\u001b[0m \u001b[1;33m=\u001b[0m \u001b[0mCollector\u001b[0m\u001b[1;33m(\u001b[0m\u001b[0murl\u001b[0m\u001b[1;33m,\u001b[0m\u001b[0mindent\u001b[0m\u001b[1;33m)\u001b[0m\u001b[1;33m\u001b[0m\u001b[1;33m\u001b[0m\u001b[0m\n\u001b[0;32m     76\u001b[0m     \u001b[0mcollector\u001b[0m\u001b[1;33m.\u001b[0m\u001b[0mfeed\u001b[0m\u001b[1;33m(\u001b[0m\u001b[0mcontent\u001b[0m\u001b[1;33m)\u001b[0m\u001b[1;33m\u001b[0m\u001b[1;33m\u001b[0m\u001b[0m\n\u001b[1;32m---> 77\u001b[1;33m     \u001b[0murls\u001b[0m \u001b[1;33m=\u001b[0m \u001b[0mcollector\u001b[0m\u001b[1;33m.\u001b[0m\u001b[0mgetLinks\u001b[0m\u001b[1;33m(\u001b[0m\u001b[1;33m)\u001b[0m          \u001b[1;31m# get list of links\u001b[0m\u001b[1;33m\u001b[0m\u001b[1;33m\u001b[0m\u001b[0m\n\u001b[0m\u001b[0;32m     78\u001b[0m \u001b[1;33m\u001b[0m\u001b[0m\n\u001b[0;32m     79\u001b[0m     \u001b[1;31m#for link in urls:\u001b[0m\u001b[1;33m\u001b[0m\u001b[1;33m\u001b[0m\u001b[1;33m\u001b[0m\u001b[0m\n",
      "\u001b[1;32m<ipython-input-5-ff404ac1b10f>\u001b[0m in \u001b[0;36mgetLinks\u001b[1;34m(self)\u001b[0m\n\u001b[0;32m     25\u001b[0m     \u001b[1;32mdef\u001b[0m \u001b[0mgetLinks\u001b[0m\u001b[1;33m(\u001b[0m\u001b[0mself\u001b[0m\u001b[1;33m)\u001b[0m\u001b[1;33m:\u001b[0m\u001b[1;33m\u001b[0m\u001b[1;33m\u001b[0m\u001b[0m\n\u001b[0;32m     26\u001b[0m         \u001b[1;34m'returns hyperlinks URLs in their absolute format'\u001b[0m\u001b[1;33m\u001b[0m\u001b[1;33m\u001b[0m\u001b[0m\n\u001b[1;32m---> 27\u001b[1;33m         \u001b[1;32mreturn\u001b[0m \u001b[0mself\u001b[0m\u001b[1;33m.\u001b[0m\u001b[0mlink\u001b[0m\u001b[1;33m\u001b[0m\u001b[1;33m\u001b[0m\u001b[0m\n\u001b[0m\u001b[0;32m     28\u001b[0m \u001b[1;33m\u001b[0m\u001b[0m\n\u001b[0;32m     29\u001b[0m \u001b[1;32mdef\u001b[0m \u001b[0mfrequency\u001b[0m\u001b[1;33m(\u001b[0m\u001b[0mitemList\u001b[0m\u001b[1;33m)\u001b[0m\u001b[1;33m:\u001b[0m\u001b[1;33m\u001b[0m\u001b[1;33m\u001b[0m\u001b[0m\n",
      "\u001b[1;31mAttributeError\u001b[0m: 'Collector' object has no attribute 'link'"
     ]
    }
   ],
   "source": [
    "from urllib.parse import urljoin\n",
    "from html.parser import HTMLParser\n",
    "class Collector(HTMLParser):\n",
    "    'collects hyperlink URLs into a list'\n",
    "    indentlist=[]\n",
    "    def __init__(self, url,indent):\n",
    "        'initializes parser, the url, and a list'\n",
    "        HTMLParser.__init__(self)\n",
    "        self.url = url\n",
    "        self.links = []\n",
    "        self.indent=indent\n",
    "\n",
    "    \n",
    "    def handle_starttag(self, tag, attrs):\n",
    "        'collects hyperlink URLs in their absolute format'\n",
    "        if tag == 'a':\n",
    "            for attr in attrs:\n",
    "                if attr[0] == 'href':\n",
    "                    # construct absolute URL\n",
    "                    absolute = urljoin(self.url, attr[1])\n",
    "                    if absolute[:4] == 'http': # collect HTTP URLs\n",
    "                        self.links.append(absolute)\n",
    "                        print ('\\t' * self.indent + absolute) \n",
    "                            \n",
    "    def getLinks(self):\n",
    "        'returns hyperlinks URLs in their absolute format'\n",
    "        return self.link\n",
    "\n",
    "def frequency(itemList):\n",
    "    'returns frequency of items in itemList'\n",
    "\n",
    "    counters = {}\n",
    "    for item in itemList:\n",
    "        if item in counters: # increment item counter\n",
    "            counters[item] += 1\n",
    "        else: # create item counter\n",
    "            counters[item] = 1\n",
    "    return counters\n",
    "\n",
    "visited = set() # initialize visited to an empty set\n",
    "\n",
    "def crawl2(url,indent,depth):\n",
    "    '''a recursive web crawler that calls analyze()\n",
    "       on every visited web page'''\n",
    "\n",
    "    # add url to set of visited pages\n",
    "    global visited     # warns the programmer \n",
    "    visited.add(url)\n",
    "\n",
    "    # analyze() returns a list of hyperlink URLs in web page url \n",
    "    links = analyze(url,indent)\n",
    "\n",
    "    # recursively continue crawl from every link in links\n",
    "    for link in links:\n",
    "        # follow link only if not visited\n",
    "        if link not in visited:\n",
    "            try:\n",
    "                indent+=1;\n",
    "                crawl2(link,indent,depth)\n",
    "            except:\n",
    "                pass\n",
    "            \n",
    "\n",
    "from urllib.request import urlopen\n",
    "from urllib.parse import urljoin\n",
    "\n",
    "from html.parser import HTMLParser\n",
    "\n",
    "def analyze(url,indent):\n",
    "    \n",
    "    print('\\n\\nVisiting', url)           # for testing\n",
    "\n",
    "    # obtain links in the web page\n",
    "    content = urlopen(url).read().decode()\n",
    "    collector = Collector(url,indent)\n",
    "    collector.feed(content)\n",
    "    urls = collector.getLinks()          # get list of links\n",
    "    \n",
    "    #for link in urls:\n",
    "      #  print('{:45} {:10}'.format(url, link))\n",
    "\n",
    "    return urls\n",
    "\n",
    "crawl2('http://reed.cs.depaul.edu/lperkovic/one.html',2,0)\n"
   ]
  },
  {
   "cell_type": "markdown",
   "id": "c29e16be",
   "metadata": {},
   "source": [
    "## Question 8\n",
    "Write SQL queries on the below database table that return:\n",
    "1. All the temperature data.\n",
    "2. All the cities, but without repetition.\n",
    "3. All the records for India.\n",
    "4. All the Fall records.\n",
    "5. The city, country, and season for which the average rainfall is between 200 and 400 millimeters.\n",
    "6. The city and country for which the average Fall temperature is above 20 degrees, in increasing temperature order.\n",
    "7. The total annual rainfall for Cairo.\n",
    "8. The total rainfall for each season.\n",
    "\n",
    "City Country Season Temperature (C) Rainfall (mm)"
   ]
  },
  {
   "cell_type": "code",
   "execution_count": 65,
   "id": "d0e96078",
   "metadata": {},
   "outputs": [
    {
     "ename": "OperationalError",
     "evalue": "table CityTable already exists",
     "output_type": "error",
     "traceback": [
      "\u001b[1;31m---------------------------------------------------------------------------\u001b[0m",
      "\u001b[1;31mOperationalError\u001b[0m                          Traceback (most recent call last)",
      "\u001b[1;32m<ipython-input-65-f54c098822e4>\u001b[0m in \u001b[0;36m<module>\u001b[1;34m\u001b[0m\n\u001b[0;32m      2\u001b[0m \u001b[0mcon\u001b[0m \u001b[1;33m=\u001b[0m \u001b[0msqlite3\u001b[0m\u001b[1;33m.\u001b[0m\u001b[0mconnect\u001b[0m\u001b[1;33m(\u001b[0m\u001b[1;34m'problem8City.db'\u001b[0m\u001b[1;33m,\u001b[0m\u001b[0mtimeout\u001b[0m\u001b[1;33m=\u001b[0m\u001b[1;36m1\u001b[0m\u001b[1;33m)\u001b[0m\u001b[1;33m\u001b[0m\u001b[1;33m\u001b[0m\u001b[0m\n\u001b[0;32m      3\u001b[0m \u001b[0mcur\u001b[0m \u001b[1;33m=\u001b[0m \u001b[0mcon\u001b[0m\u001b[1;33m.\u001b[0m\u001b[0mcursor\u001b[0m\u001b[1;33m(\u001b[0m\u001b[1;33m)\u001b[0m\u001b[1;33m\u001b[0m\u001b[1;33m\u001b[0m\u001b[0m\n\u001b[1;32m----> 4\u001b[1;33m cur.execute(\"CREATE TABLE CityTable (\"+\n\u001b[0m\u001b[0;32m      5\u001b[0m             \u001b[1;34m\"City varchar(100),\"\u001b[0m\u001b[1;33m+\u001b[0m\u001b[1;33m\u001b[0m\u001b[1;33m\u001b[0m\u001b[0m\n\u001b[0;32m      6\u001b[0m             \u001b[1;34m\"Country varchar(60),\"\u001b[0m\u001b[1;33m+\u001b[0m\u001b[1;33m\u001b[0m\u001b[1;33m\u001b[0m\u001b[0m\n",
      "\u001b[1;31mOperationalError\u001b[0m: table CityTable already exists"
     ]
    }
   ],
   "source": [
    "import sqlite3\n",
    "con = sqlite3.connect('problem8City.db',timeout=1)\n",
    "cur = con.cursor()\n",
    "cur.execute(\"CREATE TABLE CityTable (\"+\n",
    "            \"City varchar(100),\"+\n",
    "            \"Country varchar(60),\"+\n",
    "            \"Season varchar(40),\"+\n",
    "            \"Temperature C DECIMAL(5, 1),\"+\n",
    "            \"Rainfall mm DECIMAL(5,1))\")\n",
    "#cur.execute(\"CREATE TABLE cities (City, Country, Season, Temperature, Rainfall)\")\n",
    "#cur.execute(\"CREATE TABLE cities (City, Country, Season, Temperature (C), Rainfall (mm))\")\n",
    "cur.execute(\"INSERT INTO CityTable VALUES ('Mumbai', 'India', 'Winter', 24.8, 5.9)\")\n",
    "cur.execute(\"INSERT INTO CityTable VALUES ('Mumbai', 'India', 'Spring', 28.4, 16.2)\")\n",
    "cur.execute(\"INSERT INTO CityTable VALUES ('Mumbai', 'India', 'Summer', 27.9, 1549.4)\")\n",
    "cur.execute(\"INSERT INTO CityTable VALUES ('Mumbai', 'India', 'Fall', 27.6, 346.0)\")\n",
    "cur.execute(\"INSERT INTO CityTable VALUES ('London', 'United Kingdom', 'Winter', 4.2, 207.7)\")\n",
    "cur.execute(\"INSERT INTO CityTable VALUES ('London', 'United Kingdom', 'Spring', 8.3, 169.6)\")\n",
    "cur.execute(\"INSERT INTO CityTable VALUES ('London', 'United Kingdom', 'Summer', 15.7, 157.0)\")\n",
    "cur.execute(\"INSERT INTO CityTable VALUES ('London', 'United Kingdom', 'Fall', 10.4, 218.5)\")\n",
    "cur.execute(\"INSERT INTO CityTable VALUES ('Cairo', 'Egypt', 'Winter', 13.6, 16.5)\")\n",
    "cur.execute(\"INSERT INTO CityTable VALUES ('Cairo', 'Egypt', 'Spring', 20.7, 6.5)\")\n",
    "cur.execute(\"INSERT INTO CityTable VALUES ('Cairo', 'Egypt', 'Summer', 27.7, 0.1)\")\n",
    "cur.execute(\"INSERT INTO CityTable VALUES ('Cairo', 'Egypt', 'Fall', 22.2, 4.5)\")\n",
    "con.commit()\n",
    "\n",
    "\n",
    "con.close()"
   ]
  },
  {
   "cell_type": "code",
   "execution_count": 68,
   "id": "5c434d80",
   "metadata": {},
   "outputs": [
    {
     "name": "stdout",
     "output_type": "stream",
     "text": [
      "(24.8,)\n",
      "(28.4,)\n",
      "(27.9,)\n",
      "(27.6,)\n",
      "(4.2,)\n",
      "(8.3,)\n",
      "(15.7,)\n",
      "(10.4,)\n",
      "(13.6,)\n",
      "(20.7,)\n",
      "(27.7,)\n",
      "(22.2,)\n"
     ]
    }
   ],
   "source": [
    "import sqlite3\n",
    "con = sqlite3.connect('problem8City.db',timeout=1)\n",
    "cur = con.cursor()\n",
    "cur.execute('SELECT * FROM CityTable')\n",
    "cur.fetchall()\n",
    "cur.execute('SELECT Temperature C FROM CityTable')\n",
    "for record in cur:\n",
    "    print(record)"
   ]
  },
  {
   "cell_type": "code",
   "execution_count": 70,
   "id": "8bd9ec98",
   "metadata": {},
   "outputs": [
    {
     "name": "stdout",
     "output_type": "stream",
     "text": [
      "('Mumbai',)\n",
      "('London',)\n",
      "('Cairo',)\n"
     ]
    }
   ],
   "source": [
    "import sqlite3\n",
    "con = sqlite3.connect('problem8City.db',timeout=1)\n",
    "cur = con.cursor()\n",
    "cur.execute('SELECT DISTINCT City FROM CityTable')\n",
    "for record in cur:\n",
    "    print(record)"
   ]
  },
  {
   "cell_type": "code",
   "execution_count": 71,
   "id": "77eb48b7",
   "metadata": {},
   "outputs": [
    {
     "name": "stdout",
     "output_type": "stream",
     "text": [
      "('Mumbai', 'India', 'Winter', 24.8, 5.9)\n",
      "('Mumbai', 'India', 'Spring', 28.4, 16.2)\n",
      "('Mumbai', 'India', 'Summer', 27.9, 1549.4)\n",
      "('Mumbai', 'India', 'Fall', 27.6, 346)\n"
     ]
    }
   ],
   "source": [
    "import sqlite3\n",
    "con = sqlite3.connect('problem8City.db',timeout=1)\n",
    "cur = con.cursor()\n",
    "cur.execute('SELECT * FROM CityTable WHERE Country=\"India\"')\n",
    "for record in cur:\n",
    "    print(record)"
   ]
  },
  {
   "cell_type": "code",
   "execution_count": 72,
   "id": "c5506acc",
   "metadata": {},
   "outputs": [
    {
     "name": "stdout",
     "output_type": "stream",
     "text": [
      "('Mumbai', 'India', 'Fall', 27.6, 346)\n",
      "('London', 'United Kingdom', 'Fall', 10.4, 218.5)\n",
      "('Cairo', 'Egypt', 'Fall', 22.2, 4.5)\n"
     ]
    }
   ],
   "source": [
    "import sqlite3\n",
    "con = sqlite3.connect('problem8City.db',timeout=1)\n",
    "cur = con.cursor()\n",
    "cur.execute('SELECT * FROM CityTable WHERE Season=\"Fall\"')\n",
    "for record in cur:\n",
    "    print(record)"
   ]
  },
  {
   "cell_type": "code",
   "execution_count": 74,
   "id": "bab10325",
   "metadata": {},
   "outputs": [
    {
     "name": "stdout",
     "output_type": "stream",
     "text": [
      "('Mumbai', 'India', 'Fall')\n",
      "('London', 'United Kingdom', 'Winter')\n",
      "('London', 'United Kingdom', 'Fall')\n"
     ]
    }
   ],
   "source": [
    "#The city, country, and season for which the average rainfall is between 200 and 400 millimeters.\n",
    "import sqlite3\n",
    "con = sqlite3.connect('problem8City.db',timeout=1)\n",
    "cur = con.cursor()\n",
    "cur.execute('SELECT City, Country, Season FROM CityTable WHERE Rainfall BETWEEN 200 AND 400')\n",
    "for record in cur:\n",
    "    print(record)"
   ]
  },
  {
   "cell_type": "code",
   "execution_count": 13,
   "id": "ac185aa4",
   "metadata": {},
   "outputs": [
    {
     "name": "stdout",
     "output_type": "stream",
     "text": [
      "('Mumbai', 'India', 'Fall')\n",
      "('London', 'United Kingdom', 'Winter')\n",
      "('London', 'United Kingdom', 'Fall')\n"
     ]
    }
   ],
   "source": [
    "#The city and country for which the average Fall temperature is above 20 degrees, in increasing temperature order.\n",
    "import sqlite3\n",
    "con = sqlite3.connect('problem8City.db',timeout=1)\n",
    "cur = con.cursor()\n",
    "cur.execute('SELECT City, Country, Season FROM CityTable WHERE Rainfall BETWEEN 200 AND 400')\n",
    "for record in cur:\n",
    "    print(record)"
   ]
  },
  {
   "cell_type": "code",
   "execution_count": 79,
   "id": "ef347fd9",
   "metadata": {},
   "outputs": [
    {
     "name": "stdout",
     "output_type": "stream",
     "text": [
      "('Cairo', 'Egypt')\n",
      "('Mumbai', 'India')\n"
     ]
    }
   ],
   "source": [
    "#The city and country for which the average Fall temperature is above 20 degrees, in increasing temperature order.\n",
    "import sqlite3\n",
    "con = sqlite3.connect('problem8City.db',timeout=1)\n",
    "cur = con.cursor()\n",
    "cur.execute('SELECT City, Country FROM CityTable WHERE Season=\"Fall\" AND Temperature>=20  ORDER BY Temperature ASC')\n",
    "for record in cur:\n",
    "    print(record)"
   ]
  },
  {
   "cell_type": "code",
   "execution_count": 80,
   "id": "563d115b",
   "metadata": {},
   "outputs": [
    {
     "name": "stdout",
     "output_type": "stream",
     "text": [
      "(27.6,)\n"
     ]
    }
   ],
   "source": [
    "#The total annual rainfall for Cairo.\n",
    "import sqlite3\n",
    "con = sqlite3.connect('problem8City.db',timeout=1)\n",
    "cur = con.cursor()\n",
    "cur.execute('SELECT SUM(Rainfall) FROM CityTable WHERE City=\"Cairo\"')\n",
    "for record in cur:\n",
    "    print(record)"
   ]
  },
  {
   "cell_type": "code",
   "execution_count": 86,
   "id": "319ed00e",
   "metadata": {},
   "outputs": [
    {
     "name": "stdout",
     "output_type": "stream",
     "text": [
      "(569.0, 'Fall')\n",
      "(192.29999999999998, 'Spring')\n",
      "(1706.5, 'Summer')\n",
      "(230.1, 'Winter')\n"
     ]
    }
   ],
   "source": [
    "#The total rainfall for each season.\n",
    "import sqlite3\n",
    "con = sqlite3.connect('problem8City.db',timeout=1)\n",
    "cur = con.cursor()\n",
    "cur.execute('SELECT SUM(Rainfall),Season FROM CityTable GROUP BY Season')\n",
    "for record in cur:\n",
    "    print(record)"
   ]
  },
  {
   "cell_type": "markdown",
   "id": "2e365ad5",
   "metadata": {},
   "source": [
    "## Question 9\n",
    ". Suppose list words is defined as follows:\n",
    ">>> words = ['The', 'quick', 'brown', 'fox', 'jumps', 'over', 'the', 'lazy', 'dog']\n",
    "\n",
    "#### Write list comprehension expressions that use list words and generate the following lists:\n",
    "1. ['THE', 'QUICK', 'BROWN', 'FOX', 'JUMPS', 'OVER', 'THE', 'LAZY', 'DOG']\n",
    "2. ['the', 'quick', 'brown', 'fox', 'jumps', 'over', 'the', 'lazy', 'dog']\n",
    "3. [3, 5, 5, 3, 5, 4, 3, 4, 3] (the list of lengths of words in list words).\n",
    "4.  [['THE', 'the', 3], ['QUICK', 'quick', 5], ['BROWN', 'brown', 5], ['FOX', 'fox', 3], ['JUMPS', 'jumps', 5], ['OVER', 'over', 4], ['THE', 'the', 3], ['LAZY', 'lazy', 4], ['DOG', 'dog', 3]] (the list containing a list for every word of list words, where each list contains the word in uppercase and lowercase and the length of the word.)\n",
    "5.  ['The', 'quick', 'brown', 'fox', 'jumps', 'over', 'the', 'lazy', 'dog'] (the list of words in list words containing 4 or more characters.)"
   ]
  },
  {
   "cell_type": "code",
   "execution_count": 47,
   "id": "2edaf9e6",
   "metadata": {},
   "outputs": [
    {
     "name": "stdout",
     "output_type": "stream",
     "text": [
      "['The', 'quick', 'brown', 'fox', 'jumps', 'over', 'the', 'lazy', 'dog']\n",
      "['THE', 'QUICK', 'BROWN', 'FOX', 'JUMPS', 'OVER', 'THE', 'LAZY', 'DOG']\n",
      "['the', 'quick', 'brown', 'fox', 'jumps', 'over', 'the', 'lazy', 'dog']\n",
      "[3, 5, 5, 3, 5, 4, 3, 4, 3]\n",
      "[\"['THE','the','3']\", \"['QUICK','quick','5']\", \"['BROWN','brown','5']\", \"['FOX','fox','3']\", \"['JUMPS','jumps','5']\", \"['OVER','over','4']\", \"['THE','the','3']\", \"['LAZY','lazy','4']\", \"['DOG','dog','3']\"]\n",
      "['quick', 'brown', 'jumps', 'over', 'lazy']\n"
     ]
    }
   ],
   "source": [
    "words=['The', 'quick', 'brown', 'fox', 'jumps', 'over', 'the', 'lazy', 'dog']\n",
    "upperwords=[]\n",
    "lowerwords=[]\n",
    "length_of_words=[]\n",
    "long_words_list=[]\n",
    "length_4_words=[]\n",
    "\n",
    "for i in range(len(words)):\n",
    "    upperwords.append(words[i].upper())\n",
    "    lowerwords.append(words[i].lower())\n",
    "    length_of_words.append(len(words[i]))\n",
    "    a='[\\''+upperwords[i]+'\\',\\''+lowerwords[i]+'\\',\\''+str(length_of_words[i])+'\\']'\n",
    "    long_words_list.append(a)\n",
    "    if(len(words[i])>=4):\n",
    "        length_4_words.append(words[i])\n",
    "        \n",
    "    \n",
    "print(words)\n",
    "print(upperwords)\n",
    "print(lowerwords)\n",
    "print(length_of_words)\n",
    "print(long_words_list)\n",
    "print(length_4_words)"
   ]
  }
 ],
 "metadata": {
  "kernelspec": {
   "display_name": "Python 3",
   "language": "python",
   "name": "python3"
  },
  "language_info": {
   "codemirror_mode": {
    "name": "ipython",
    "version": 3
   },
   "file_extension": ".py",
   "mimetype": "text/x-python",
   "name": "python",
   "nbconvert_exporter": "python",
   "pygments_lexer": "ipython3",
   "version": "3.8.8"
  }
 },
 "nbformat": 4,
 "nbformat_minor": 5
}
